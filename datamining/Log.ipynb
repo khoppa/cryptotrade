{
 "cells": [
  {
   "cell_type": "markdown",
   "metadata": {},
   "source": [
    "# Log\n",
    "10/30/17\n",
    "* Added CoinList\n",
    "* Only Symbol + Name of coin stored in this list (no meta data ex. total coin supply)\n",
    "\n",
    "12/1/17\n",
    "* Created scraper for Bitcoin prices\n",
    "\n",
    "12/20/17\n",
    "* Finished scraper for historical prices (3 months) for major exchanges"
   ]
  },
  {
   "cell_type": "markdown",
   "metadata": {},
   "source": [
    "# Structure\n",
    "* First step will be to create rudimentary infrastructure for data mining and algorithm testing.\n",
    "1. Create dataset through cryptocompare api with roughly 3 months of historical daily price data for top exchanges for Bitcoin\n",
    "2. Create labels for dataset\n",
    "3. Create pipeline for machine learning strategies, algorithms to be used on dataset.\n",
    "4. Create results/analysis output which will decipher algorithmic results by indicating sell signals, etc.\n",
    "5. Create backtesting structure which can take said strategies and data and calculate profits, balances, etc.\n"
   ]
  },
  {
   "cell_type": "markdown",
   "metadata": {
    "collapsed": true
   },
   "source": [
    "## Data viewing\n",
    "Labels/accessing methods that I want:\n",
    "1. Ability to grab data for certain time periods\n",
    "2. Label different time periods based on their price action (bull market, bull market for BTC, bull market for ALTs, etc.)\n",
    "3. Grab coin data other than price action i.e. market cap, circulating supply, portion of whole cryptocurrency marketcap, etc.\n",
    "4. "
   ]
  },
  {
   "cell_type": "markdown",
   "metadata": {},
   "source": [
    "Options:\n",
    "1. Don't use CrawlSpider, hardcode Link Extractors to extract links after using BS to strip unwanted links via html tags.\n",
    "2. Add links scraped via BS to an unwanted list, check if each response.url is in list.\n",
    "3. "
   ]
  }
 ],
 "metadata": {
  "kernelspec": {
   "display_name": "Python 2",
   "language": "python",
   "name": "python2"
  },
  "language_info": {
   "codemirror_mode": {
    "name": "ipython",
    "version": 2
   },
   "file_extension": ".py",
   "mimetype": "text/x-python",
   "name": "python",
   "nbconvert_exporter": "python",
   "pygments_lexer": "ipython2",
   "version": "2.7.14"
  }
 },
 "nbformat": 4,
 "nbformat_minor": 2
}
